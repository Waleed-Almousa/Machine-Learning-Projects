{
 "cells": [
  {
   "cell_type": "markdown",
   "id": "8163daf4",
   "metadata": {},
   "source": [
    "# HW02: Practice with logistic regression and decision tree\n",
    "\n",
    "Waleed Almousa\n",
    "\n",
    "908 302 9414\n",
    "\n",
    "[Please put your name and NetID here.]"
   ]
  },
  {
   "cell_type": "markdown",
   "id": "4fdedd9b",
   "metadata": {},
   "source": [
    "## Hello Students:\n",
    "\n",
    "- Start by downloading HW02.ipynb from this folder. Then develop it into your solution.\n",
    "- Write code where you see \"... your code here ...\" below.\n",
    "  (You are welcome to use more than one cell.)\n",
    "- If you have questions, please ask them in class, office hours, or piazza. Our TA\n",
    "  and I are very happy to help with the programming (provided you start early\n",
    "  enough, and provided we are not helping so much that we undermine your learning).\n",
    "- When you are done, run these Notebook commands:\n",
    "  - Shift-L (once, so that line numbers are visible)\n",
    "  - Kernel > Restart and Run All (run all cells from scratch)\n",
    "  - Esc S (save)\n",
    "  - File > Download as > HTML\n",
    "- Turn in:\n",
    "  - HW02.ipynb to Canvas's HW02.ipynb assignment\n",
    "  - HW02.html to Canvas's HW02.html assignment\n",
    "  - As a check, download your files from Canvas to a new 'junk' folder. Try 'Kernel > Restart\n",
    "  and Run All' on the '.ipynb' file to make sure it works. Glance through the '.html' file.\n",
    "- Turn in partial solutions to Canvas before the deadline. e.g. Turn in part 1,\n",
    "  then parts 1 and 2, then your whole solution. That way we can award partial credit\n",
    "  even if you miss the deadline. We will grade your last submission before the deadline."
   ]
  },
  {
   "cell_type": "code",
   "execution_count": 1,
   "id": "f6a87448",
   "metadata": {},
   "outputs": [],
   "source": [
    "import numpy as np\n",
    "import pandas as pd\n",
    "import matplotlib.pyplot as plt\n",
    "from sklearn import linear_model\n",
    "from sklearn.tree import DecisionTreeClassifier\n",
    "from sklearn import tree\n",
    "from sklearn.tree import export_text "
   ]
  },
  {
   "cell_type": "markdown",
   "id": "f90946b9",
   "metadata": {},
   "source": [
    "# 1. Logistic regression"
   ]
  },
  {
   "cell_type": "markdown",
   "id": "0c5d8fa5",
   "metadata": {},
   "source": [
    "# 1a. Make a logistic regression model\n",
    "relating the probability an iris has Species='virginica' to its 'Petal.Length'\n",
    "and classifying irises as 'virginica' or not 'virginica' (i.e. 'versicolor').\n",
    "- Read [http://www.stat.wisc.edu/~jgillett/451/data/iris.csv](http://www.stat.wisc.edu/~jgillett/451/data/iris.csv) into a DataFrame.\n",
    "- Make a second data frame that excludes the 'setosa' rows (leaving the 'virginica' and 'versicolor' rows) and includes only the Petal.Length and Species columns.\n",
    "- Use `linear_model.LogisticRegression(C=1000)` so we all get the same results (they vary with `C`).\n",
    "- Train the model using $X=$ petal length and $y=$ whether the Species is 'virginica'.\n",
    "  (I used \"y = (df['Species'] == 'virginica').to_numpy().astype(int)\",\n",
    "  which sets y to zeros and ones.)\n",
    "- Report its accuracy on the training data.\n",
    "- Report the estimated P(Species=virginica | Petal.Length=5).\n",
    "- Report the predicited Species ('virginica' or 'versicolor') for Petal.Length=5.\n",
    "- Make a plot showing:\n",
    "  - the data points\n",
    "  - the estimated logistic curve\n",
    "  - and what I have called the \"sample proportion\" of y == 1 at each unique Petal.Length value\n",
    "  - a legend and title and other labels necessary to make the plot easy to read"
   ]
  },
  {
   "cell_type": "code",
   "execution_count": 2,
   "id": "248a1006",
   "metadata": {},
   "outputs": [
    {
     "data": {
      "text/html": [
       "<div>\n",
       "<style scoped>\n",
       "    .dataframe tbody tr th:only-of-type {\n",
       "        vertical-align: middle;\n",
       "    }\n",
       "\n",
       "    .dataframe tbody tr th {\n",
       "        vertical-align: top;\n",
       "    }\n",
       "\n",
       "    .dataframe thead th {\n",
       "        text-align: right;\n",
       "    }\n",
       "</style>\n",
       "<table border=\"1\" class=\"dataframe\">\n",
       "  <thead>\n",
       "    <tr style=\"text-align: right;\">\n",
       "      <th></th>\n",
       "      <th>Petal.Length</th>\n",
       "      <th>Species</th>\n",
       "    </tr>\n",
       "  </thead>\n",
       "  <tbody>\n",
       "    <tr>\n",
       "      <th>145</th>\n",
       "      <td>5.2</td>\n",
       "      <td>virginica</td>\n",
       "    </tr>\n",
       "    <tr>\n",
       "      <th>146</th>\n",
       "      <td>5.0</td>\n",
       "      <td>virginica</td>\n",
       "    </tr>\n",
       "    <tr>\n",
       "      <th>147</th>\n",
       "      <td>5.2</td>\n",
       "      <td>virginica</td>\n",
       "    </tr>\n",
       "    <tr>\n",
       "      <th>148</th>\n",
       "      <td>5.4</td>\n",
       "      <td>virginica</td>\n",
       "    </tr>\n",
       "    <tr>\n",
       "      <th>149</th>\n",
       "      <td>5.1</td>\n",
       "      <td>virginica</td>\n",
       "    </tr>\n",
       "  </tbody>\n",
       "</table>\n",
       "</div>"
      ],
      "text/plain": [
       "     Petal.Length    Species\n",
       "145           5.2  virginica\n",
       "146           5.0  virginica\n",
       "147           5.2  virginica\n",
       "148           5.4  virginica\n",
       "149           5.1  virginica"
      ]
     },
     "execution_count": 2,
     "metadata": {},
     "output_type": "execute_result"
    }
   ],
   "source": [
    "df= pd.read_csv(\"http://www.stat.wisc.edu/~jgillett/451/data/iris.csv\")\n",
    "df2=df[df.Species!=\"setosa\"]\n",
    "df2=df2[[\"Petal.Length\", \"Species\"]]\n",
    "df2.tail()"
   ]
  },
  {
   "cell_type": "code",
   "execution_count": 3,
   "id": "cb865205",
   "metadata": {},
   "outputs": [
    {
     "name": "stdout",
     "output_type": "stream",
     "text": [
      "the accuracy of this model is:  0.93\n",
      "Estimated P(Species=virginica | Petal.Length=5): 0.772542197656312\n",
      "Predicted Species for Petal.Length=5: virginica\n"
     ]
    },
    {
     "name": "stderr",
     "output_type": "stream",
     "text": [
      "C:\\Users\\walee\\anaconda3\\Lib\\site-packages\\sklearn\\base.py:464: UserWarning: X does not have valid feature names, but LogisticRegression was fitted with feature names\n",
      "  warnings.warn(\n",
      "C:\\Users\\walee\\anaconda3\\Lib\\site-packages\\sklearn\\base.py:464: UserWarning: X does not have valid feature names, but LogisticRegression was fitted with feature names\n",
      "  warnings.warn(\n"
     ]
    },
    {
     "data": {
      "text/plain": [
       "0.18786064663921054"
      ]
     },
     "execution_count": 3,
     "metadata": {},
     "output_type": "execute_result"
    }
   ],
   "source": [
    "model=linear_model.LogisticRegression(C=1000)\n",
    "X=df2[[\"Petal.Length\"]]\n",
    "y = (df2['Species'] == 'virginica').to_numpy().astype(int)\n",
    "model.fit(X, y)\n",
    "accuracy = model.score(X, y)\n",
    "print(\"the accuracy of this model is: \", accuracy)\n",
    "\n",
    "petal_length_5 = np.array([[5]])\n",
    "probability_virginica = model.predict_proba(petal_length_5)[:, 1][0]\n",
    "print(\"Estimated P(Species=virginica | Petal.Length=5):\", probability_virginica)\n",
    "\n",
    "predicted_species = \"virginica\" if model.predict(petal_length_5)[0] == 1 else \"versicolor\"\n",
    "print(\"Predicted Species for Petal.Length=5:\", predicted_species)\n",
    "model.predict_proba(X)[:, 1][0]\n"
   ]
  },
  {
   "cell_type": "code",
   "execution_count": 4,
   "id": "57f9a359",
   "metadata": {},
   "outputs": [
    {
     "data": {
      "image/png": "[encoded data removed]",
      "text/plain": [
       "<Figure size 640x480 with 1 Axes>"
      ]
     },
     "metadata": {},
     "output_type": "display_data"
    }
   ],
   "source": [
    "plt.scatter(X, y, color='red', label='Data Points', marker='o')\n",
    "b = model.intercept_\n",
    "w = model.coef_[0]\n",
    "low=3\n",
    "high=7\n",
    "x_values, x_counts = np.unique(X, return_counts=True)\n",
    "\n",
    "xplot = np.linspace(start=low, stop=high)\n",
    "yplot = 1 / (1 + np.exp(-(w * xplot + b)))\n",
    "plt.plot(xplot, yplot, label=r'logistic curve $\\hat{P}(y = 1)$')\n",
    "\n",
    "\n",
    "n_x_values = x_values.shape[0]\n",
    "success_proportion_per_x_value = np.zeros(n_x_values)\n",
    "for i in np.arange(n_x_values):\n",
    "    success_proportion_per_x_value[i] = np.sum(y[df2[\"Petal.Length\"] == x_values[i]]) / x_counts[i]\n",
    "\n",
    "plt.plot(x_values, success_proportion_per_x_value, '.', color='black', label='sample proportions')\n",
    "\n",
    "plt.xlabel('Petal.Length')\n",
    "plt.ylabel('Probability of Species being virginica')\n",
    "plt.legend()\n",
    "plt.title('Logistic Regression for Iris Species Prediction')\n",
    "plt.legend(loc='center right')\n",
    "plt.show(block=False)\n"
   ]
  },
  {
   "cell_type": "markdown",
   "id": "bac5562e",
   "metadata": {},
   "source": [
    "## 1b. Do some work with logistic regression by hand.\n",
    "Consider the logistic regression model, $P(y\n",
    "_i = 1) = \\frac{1}{1 + e^{-(\\mathbf{w x} + b)}}\\,.$\n",
    "\n",
    "Logistic regression is named after the log-odds of success, $\\ln\n",
    "  \\frac{p}{1 - p}$, where $p = P(y_i = 1)$. Show that this log-odds\n",
    "  equals $\\mathbf{w x} + b$. (That is, start with $\\ln\n",
    "  \\frac{p}{1 - p}$ and connect it in a series of equalities to $\\mathbf{w x} + b$.)\n",
    "  "
   ]
  },
  {
   "cell_type": "markdown",
   "id": "cbc0b73b",
   "metadata": {},
   "source": [
    "#### ... your Latex math in a Markdown cell here ...\n",
    "\n",
    "$\\begin{align*} % In this Latex context, \"&\" separates columns and \"\\\\\" ends a line.\n",
    "   \\ln \\frac{p}{1 - p} & = \\ln \\frac{\\frac{1}{1 + e^{-(\\mathbf{w x} + b)}}}{1-\\frac{1}{1 + e^{-(\\mathbf{w x} + b)}}}\\\\ \n",
    "find\\_common\\_denominator \n",
    "   \\\\\n",
    "   & = \\ln  \\frac{\\frac{1}{1 + e^{-(\\mathbf{w x} + b)}}}{\\frac{1+e^{-(\\mathbf{w x} + b)}-1}{1+e^{-(\\mathbf{w x} + b)}}}\\\\\n",
    "   \\\\\n",
    "   & = \\ln  \\frac{\\frac{1}{1 + e^{-(\\mathbf{w x} + b)}}}{\\frac{e^{-(\\mathbf{w x} + b)}}{1+e^{-(\\mathbf{w x} + b)}}}\\\\\n",
    "   multiple\\_fraction\\_by\\_reciprical \\\\\n",
    "   & = \\ln( \\frac {1}{1+e^{-(\\mathbf{w x} + b)}} * \\frac{1+e^{-(\\mathbf{w x} + b)}}{e^{-(\\mathbf{w x} + b)}})\n",
    "   & \\\\ \n",
    "    & = \\ln \\frac{1}{e^{-(\\mathbf{w x} + b)}}\n",
    "    & \\\\\n",
    "    & = \\ln e^{(\\mathbf{w x} + b)}\n",
    "    & \\\\   \n",
    "    & = \\mathbf{w x} + b\\\\\n",
    " \\end{align*}\n",
    "$"
   ]
  },
  {
   "cell_type": "markdown",
   "id": "b9e79535",
   "metadata": {},
   "source": [
    "### 1c. Do some more work with logistic regression by hand.\n",
    "\n",
    "I ran some Python/scikit-learn code to make the model pictured here: ![](https://pages.stat.wisc.edu/~jgillett/451/02/toyLogistic.png)\n",
    "\n",
    "From the image and without the help of running code, match each code line from the top list with its output from the bottom list.\n",
    "\n",
    "1. `model.intercept_`\n",
    "2. `model.coef_`\n",
    "3. `model.predict(X)`\n",
    "4. `model.predict_proba(X)[:, 1]`\n",
    "\n",
    "A. `array([0, 0, 0, 1])`,\n",
    "B. `array([0.003, 0.5, 0.5, 0.997])`,\n",
    "C. `array([5.832])`,\n",
    "D. `array([0.])`"
   ]
  },
  {
   "cell_type": "markdown",
   "id": "3982cc60",
   "metadata": {},
   "source": [
    "# ... Your answer here in a Markdown cell ...\n",
    "# For example, \"1: A, 2: B, 3: C, 4: D\" is wrong but has the right format.\n",
    "\n",
    "1:D , 2: C, 3: A, 4: B\n"
   ]
  },
  {
   "cell_type": "markdown",
   "id": "006bb6a9",
   "metadata": {},
   "source": [
    "# 2. Decision tree"
   ]
  },
  {
   "cell_type": "markdown",
   "id": "a82c49b8",
   "metadata": {},
   "source": [
    "## 2a. Make a decision tree model on a Titanic data set.\n",
    "Read the data from [http://www.stat.wisc.edu/~jgillett/451/data/kaggle_titanic_train.csv](http://www.stat.wisc.edu/~jgillett/451/data/kaggle_titanic_train.csv).\n",
    "\n",
    "These data are described at [https://www.kaggle.com/competitions/titanic/data](https://www.kaggle.com/competitions/titanic/data) (click on the small down-arrow to see the \"Data Dictionary\"), which is where they are from.\n",
    "\n",
    "- Retain only the Survived, Pclass, Sex, and Age columns.\n",
    "- Display the  first seven rows (passengers).\n",
    "  Notice that the Age column includes NaN, indicating a missing value.\n",
    "- Drop rows with missing data via `df.dropna()`. Display your data frame's shape before\n",
    "  and after dropping rows. (It should be (714, 4) after dropping rows.)\n",
    "- Add a column called 'Female' that indicates whether a passenger is Female. You can make this column via `df.Sex == 'female'`. This gives bool values True and False, which are interpreted as 1 and 0 when used in an arithmetic context.\n",
    "- Train a decision tree with `max_depth=None` to decided whether a passenger\n",
    "  `Survived` from the other three columns. Report its accuracy (with 3 decimal places)\n",
    "  on training data along with the tree's depth (which is available in `clf.tree_.max_depth`).\n",
    "- Train another tree with `max_depth=2`. Report its accuracy (with 3 decimal places).\n",
    "  Use `tree.plot_tree()` to display it, including feature_names to make the tree easy to read."
   ]
  },
  {
   "cell_type": "code",
   "execution_count": 5,
   "id": "c8c242d6",
   "metadata": {},
   "outputs": [],
   "source": [
    "df3= pd.read_csv('http://www.stat.wisc.edu/~jgillett/451/data/kaggle_titanic_train.csv', index_col=0)\n",
    "df3=df3[[\"Survived\", \"Pclass\", \"Sex\", \"Age\"]]\n",
    "df3=df3.dropna()\n",
    "df3[\"Female\"]=df3.Sex=='female'"
   ]
  },
  {
   "cell_type": "code",
   "execution_count": 6,
   "id": "2773ed2e",
   "metadata": {},
   "outputs": [
    {
     "name": "stdout",
     "output_type": "stream",
     "text": [
      "the trees accuracy is:  0.896\n",
      "the trees max depth is:  15\n"
     ]
    }
   ],
   "source": [
    "X= df3[[\"Pclass\", \"Age\", \"Female\"]]\n",
    "y=df3.Survived\n",
    "clf = DecisionTreeClassifier(criterion='entropy', max_depth=None, random_state=0)\n",
    "clf.fit(X, y)\n",
    "print(\"the trees accuracy is: \", round(clf.score(X, y), 3))\n",
    "print(\"the trees max depth is: \", clf.tree_.max_depth)\n"
   ]
  },
  {
   "cell_type": "code",
   "execution_count": 7,
   "id": "65d74669",
   "metadata": {},
   "outputs": [
    {
     "name": "stdout",
     "output_type": "stream",
     "text": [
      "the trees accuracy is:  0.791\n"
     ]
    },
    {
     "data": {
      "text/plain": [
       "[Text(0.5, 0.8333333333333334, 'Female <= 0.5\\nentropy = 0.974\\nsamples = 714\\nvalue = [424, 290]'),\n",
       " Text(0.25, 0.5, 'Pclass <= 1.5\\nentropy = 0.732\\nsamples = 453\\nvalue = [360, 93]'),\n",
       " Text(0.125, 0.16666666666666666, 'entropy = 0.969\\nsamples = 101\\nvalue = [61, 40]'),\n",
       " Text(0.375, 0.16666666666666666, 'entropy = 0.611\\nsamples = 352\\nvalue = [299, 53]'),\n",
       " Text(0.75, 0.5, 'Pclass <= 2.5\\nentropy = 0.804\\nsamples = 261\\nvalue = [64, 197]'),\n",
       " Text(0.625, 0.16666666666666666, 'entropy = 0.314\\nsamples = 159\\nvalue = [9, 150]'),\n",
       " Text(0.875, 0.16666666666666666, 'entropy = 0.996\\nsamples = 102\\nvalue = [55, 47]')]"
      ]
     },
     "execution_count": 7,
     "metadata": {},
     "output_type": "execute_result"
    },
    {
     "data": {
      "image/png": "[encoded data removed]",
      "text/plain": [
       "<Figure size 640x480 with 1 Axes>"
      ]
     },
     "metadata": {},
     "output_type": "display_data"
    }
   ],
   "source": [
    "clf = DecisionTreeClassifier(criterion='entropy', max_depth=2, random_state=0)\n",
    "clf.fit(X, y)\n",
    "print(\"the trees accuracy is: \", round(clf.score(X, y), 3))\n",
    "tree.plot_tree(clf, feature_names=[\"Pclass\", \"Age\", \"Female\"])"
   ]
  },
  {
   "cell_type": "markdown",
   "id": "92388657",
   "metadata": {},
   "source": [
    "## 2b. Which features are used in the (max_depth=2) decision-making? Answer in a markdown cell."
   ]
  },
  {
   "cell_type": "markdown",
   "id": "7f858434",
   "metadata": {},
   "source": [
    "\n",
    "\"Female\" and \"Pclass\" are used in the decision-making "
   ]
  },
  {
   "cell_type": "markdown",
   "id": "aa128a8c",
   "metadata": {},
   "source": [
    " ## 2c. What proportion (in the cleaned-up data) of females survived? What proportion of males survived?\n",
    " Answer in two sentences via print(), with each proportion rounded to three decimal places.\n",
    " \n",
    " Hint: There are many ways to do this. One quick way is to find the average of the `Survived`\n",
    " column for each subset."
   ]
  },
  {
   "cell_type": "code",
   "execution_count": 8,
   "id": "700852b6",
   "metadata": {},
   "outputs": [
    {
     "name": "stdout",
     "output_type": "stream",
     "text": [
      "The proportion of females that survived is:  0.755\n",
      "The proportion of males that survived is:  0.205\n"
     ]
    }
   ],
   "source": [
    "df4=df3[df3.Female==1]\n",
    "print(\"The proportion of females that survived is: \", round(np.mean(df4.Survived), 3))\n",
    "df5=df3[df3.Female==0]\n",
    "print(\"The proportion of males that survived is: \", round(np.mean(df5.Survived), 3))\n"
   ]
  },
  {
   "cell_type": "markdown",
   "id": "8fee52c3",
   "metadata": {},
   "source": [
    "## 2d. Do some decision tree calculations by hand.\n",
    "Consider a decision tree node containing the following set of examples $S =\n",
    "\\{(\\mathbf{x}, y)\\}$ where $\\mathbf{x} = (x_1, x_2)$:\n",
    "\n",
    "((4, 9), 1)\n",
    "\n",
    "((2, 6), 0)\n",
    "\n",
    "((5, 7), 0)\n",
    "\n",
    "((3, 8), 1)\n",
    "\n",
    "Find the entropy of $S$."
   ]
  },
  {
   "cell_type": "markdown",
   "id": "f3ab9e91",
   "metadata": {},
   "source": [
    "\n",
    "$\\begin{align*} % In this Latex context, \"&\" separates columns and \"\\\\\" ends a line.\n",
    "   \\\\\n",
    "   & \\\\\n",
    "   & Entropy S = {(-1/2)*log2(1/2) -(1/2)*log2(1/2)}\n",
    "   \\\\ & =1\n",
    "    & \\\\\n",
    "    & \\\\   \n",
    " \\end{align*}\n",
    "$"
   ]
  },
  {
   "cell_type": "markdown",
   "id": "62982e16",
   "metadata": {},
   "source": [
    " ## 2e. Do some more decision tree calculations by hand.\n",
    "Find a (feature, threshold) pair that yields the best split for this node."
   ]
  },
  {
   "cell_type": "markdown",
   "id": "e9570f92",
   "metadata": {},
   "source": [
    "\n",
    "\n",
    "the best feature to use is x2, with a threshold of 7.5\n",
    "\n",
    "(x2, 7.5)\n",
    "\n",
    "Work: \n",
    "\n",
    "S(left): {((2, 6), 0), ((5, 7), 0)}\n",
    "\n",
    "S(right): {((4, 9), 1), ((3, 8), 1)}\n",
    "\n",
    "this splits the data into two groups, one with 2 successes and the other with 2 failures. therefor, the best (feature, threshold) split is (x2, 7.5)"
   ]
  },
  {
   "cell_type": "code",
   "execution_count": null,
   "id": "491bd977",
   "metadata": {},
   "outputs": [],
   "source": []
  }
 ],
 "metadata": {
  "celltoolbar": "Tags",
  "kernelspec": {
   "display_name": "Python 3 (ipykernel)",
   "language": "python",
   "name": "python3"
  },
  "language_info": {
   "codemirror_mode": {
    "name": "ipython",
    "version": 3
   },
   "file_extension": ".py",
   "mimetype": "text/x-python",
   "name": "python",
   "nbconvert_exporter": "python",
   "pygments_lexer": "ipython3",
   "version": "3.11.4"
  }
 },
 "nbformat": 4,
 "nbformat_minor": 5
}
